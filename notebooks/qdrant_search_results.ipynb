{
 "cells": [
  {
   "cell_type": "code",
   "execution_count": 1,
   "metadata": {},
   "outputs": [
    {
     "name": "stderr",
     "output_type": "stream",
     "text": [
      "c:\\Ambarish\\LEGAL\\text2sql-legal\\.venv\\Lib\\site-packages\\sentence_transformers\\cross_encoder\\CrossEncoder.py:11: TqdmWarning: IProgress not found. Please update jupyter and ipywidgets. See https://ipywidgets.readthedocs.io/en/stable/user_install.html\n",
      "  from tqdm.autonotebook import tqdm, trange\n"
     ]
    }
   ],
   "source": [
    "import sys\n",
    "sys.path.append('..')\n",
    "from config_notebooks import *\n",
    "from qdrant.qdrant_helper import *\n",
    "from azureopenaimanager.azureopenai_helper import AzureOpenAIManager\n",
    "from azure_blob.azure_blob_helper import AzureBlobHelper"
   ]
  },
  {
   "cell_type": "code",
   "execution_count": 2,
   "metadata": {},
   "outputs": [],
   "source": [
    "search = QdrantHelper(QDRANT_URL,QDRANT_KEY,MODEL_NAME,QDRANT_COLLECTION,\n",
    "                      CROSS_ENCODER_USE=True)"
   ]
  },
  {
   "cell_type": "code",
   "execution_count": 3,
   "metadata": {},
   "outputs": [],
   "source": [
    "query = \"\"\"\n",
    "What is De minimis non curat lex ?\n",
    "\"\"\"\n",
    "\n",
    "query = \"What is Naked Truth ?\""
   ]
  },
  {
   "cell_type": "code",
   "execution_count": 4,
   "metadata": {},
   "outputs": [],
   "source": [
    "CATEGORY = \"\"\n",
    "USER_ID = \"ambarish.ganguly@gmail.com\""
   ]
  },
  {
   "cell_type": "code",
   "execution_count": 5,
   "metadata": {},
   "outputs": [
    {
     "name": "stdout",
     "output_type": "stream",
     "text": [
      "What is Naked Truth ?\n",
      "################################\n",
      "category = \n",
      "user_id = ambarish.ganguly@gmail.com\n",
      "Results to return Length: 5\n"
     ]
    }
   ],
   "source": [
    "results_to_return, \\\n",
    "metadata_source_filename_to_return, \\\n",
    "metadata_source_page_to_return, \\\n",
    "reranker_score_to_return = search.get_search_results(user_input=query,\n",
    "                                                     CATEGORY=CATEGORY,\n",
    "                                                     user_id=USER_ID,\n",
    "                                                     )"
   ]
  },
  {
   "cell_type": "code",
   "execution_count": 6,
   "metadata": {},
   "outputs": [
    {
     "data": {
      "text/plain": [
       "['• solemnly promise to tell the truth in court; \\n• solemnly promise to tell the truth in an \\naffidavit; \\n• confirm a decision made by a lower court; \\nor \\n• allow a contract to continue even though it \\ncould have been cancelled because it was \\nfundamentally breached. \\n \\nAffirmation solemnly promising to tell the truth when giving \\nevidence. It is an alternative to swearing an oath \\nwhen the person giving evidence does not wish to. \\n \\n \\nAffray fighting unlawfully. It is a criminal offence. \\n \\nAforementioned describing something referred to previously in the \\ndocument. \\n \\nAforesaid describing something which has been said or \\nreferred to before in the document. \\n \\n \\nAgency the relationship between a principal and an agent. \\n \\n \\nAgent someone appointed to act for a principal. \\n \\nAge of consent the age when a person can consent to have \\nsexual intercourse. In the UK it is 16. \\n \\nAggravated assault a more serious type of assault such as one leading \\nto actual bodily harm. \\n \\nAggravated burglary entering premises armed with a weapon, intending to \\nsteal goods. \\n \\nAggravated damages extra damages awarded because the defendant has \\ncaused the victim anguish, loss of self-respect or \\nshame.',\n",
       " ' \\n \\nOfficial secret information which the Government classifies as \\nconfidential. It is a criminal offence to disclose an \\nofficial secret without permission. \\n \\nOfficial Solicitor an officer of the Supreme Court whose duties include \\nacting for people who cannot act for themselves, such \\nas children or people with mental health problems. \\n \\n \\nOmission a failure to do something. \\n \\nOppression the offence of public officials using their official \\npositions to harm or injure people. \\n \\nOption a type of contract under which money is paid for a \\nright to buy or sell goods at a fixed price by a \\nparticular date in the future. \\n  \\nOrder an instruction by or command of a court. \\n \\nOrder in Council an order given by the monarch (King or Queen) after \\ntaking advice from the members of the Privy Council. \\n \\nOriginating summons a summons that sets out the questions the court is \\nbeing asked to settle. When the facts in a case are \\nnot disputed, but the interpretation of the law or of \\nthe documents needs to be resolved, an originating \\nsummons is prepared.',\n",
       " ' \\n \\n \\nAbatement is: cancelling a writ or action; \\nstopping a nuisance; \\nreducing the payments to creditors in proportion, if \\nthere is not enough money to pay them in full; or \\nreducing the bequests in a will, in proportion, when \\nthere is not enough money to pay them in full. \\n \\n \\nAbduction taking someone away by force. \\n \\n \\nAb initio from the start of something. (This phrase is Latin.) \\n \\nAbovementioned describing something which has been referred to \\nbefore in the document. \\n \\nAbscond when a person fails to present themselves before the \\ncourt when required, such as when they have been \\nreleased on bail and not returned to court. Absolute complete and unconditional. \\n \\nAbsolute discharge someone who has been convicted of an offence \\nbeing released without any penalty. (They may still \\nhave to pay compensation though.) \\n \\nAbsolute owner the only owner of property such as equipment, \\nbuildings, land or vehicles. \\n \\nAbsolute privilege a defence which can be used in a case of \\ndefamation if the statement from which the \\ndefamation arose was: \\n• made in Parliament; \\n• in fair and accurate news reporting of court \\nproceedings; or \\n• made during court proceedings.',\n",
       " 'if any statement in this declaration is false, and if in making such statement I \\neither know or believe it t o be false or do not believe it to be true, I am liable to imprisonment and \\nalso to fine.  \\n(Sd.) A.B. (the Bridegroom) . \\nDECLARATION TO BE MADE BY THE BRIDE  \\nI, C.D., hereby declare as follows: ― \\n1. I am at the present time unmarried (or a widow or a divorcee,  as the case may be).  \\n2. I have completed ....years of age.  \\n3. I am not related to A.B. (the Bridegroom) within the degree s of prohibited relationship.  \\n4. I am aware that, if any statement in this declaration is false, and if in making such statement I \\neither know or believe it to be false or do not believe it to be true, I am liable to imprisonment and \\nalso to fine.  \\n(Sd.) C.D. (the Bride)  \\nSigned in our presence by the above -named A.B. and C.D. So far as we are aware there is no lawful \\nimpediment to the mar riage.  \\n(Sd.) G.H.                                      \\n(Sd.) I.J.            Three witnesses . \\n(Sd.) K.L.         \\n                  Countersigned E.F.,  \\n         Marriage Officer  \\nDated the                                            day of                                      20 \\n 24 \\n ',\n",
       " \" If a parent who is a beneficiary under a will \\ndies and the legacy goes to the children in equal \\nshares, the legacy has been divided per stirpes. \\n(This term is Latin.) \\n \\n \\nPerverting the course \\nof justice doing something to interfere with the justice system \\n(such as misleading the court or intimidating \\nwitnesses). \\n \\nPlaintiff the person who goes to court to make a claim \\nagainst someone else. (Since April 1999, this term \\nhas been replaced with 'Claimant'.) \\n \\n \\nPlea the defendant's answer to the accusations. \\n \\nPlea bargain when the defendant pleads guilty instead of not guilty \\nin return for a concession by the prosecution (such \\nas dropping another charge). \\n \\nPlead to declare to the court whether you are guilty or not \\nguilty. \\n \\nPleadings statements of the facts prepared by both sides in a \\ncivil case. Each side gives the other its pleadings so \\nthat they are both aware of what arguments will be \\nused during the trial. (This term was replaced with \\nstatement of case' in April 1999). \\n \\nPledge letting someone take possession of goods but the \\nownership does not change.\"]"
      ]
     },
     "execution_count": 6,
     "metadata": {},
     "output_type": "execute_result"
    }
   ],
   "source": [
    "results_to_return"
   ]
  },
  {
   "cell_type": "code",
   "execution_count": null,
   "metadata": {},
   "outputs": [],
   "source": [
    "metadata_source_filename_to_return"
   ]
  },
  {
   "cell_type": "code",
   "execution_count": null,
   "metadata": {},
   "outputs": [],
   "source": [
    "metadata_source_page_to_return"
   ]
  },
  {
   "cell_type": "code",
   "execution_count": null,
   "metadata": {},
   "outputs": [],
   "source": [
    "reranker_score_to_return"
   ]
  },
  {
   "cell_type": "code",
   "execution_count": null,
   "metadata": {},
   "outputs": [],
   "source": [
    "results_to_return"
   ]
  },
  {
   "cell_type": "code",
   "execution_count": null,
   "metadata": {},
   "outputs": [],
   "source": [
    "def get_reply(user_input, content):\n",
    "\n",
    "    azure_open_ai_manager = AzureOpenAIManager(\n",
    "                    endpoint=AZURE_OPENAI_ENDPOINT,\n",
    "                    api_key=AZURE_OPENAI_KEY,\n",
    "                    deployment_id=AZURE_OPENAI_DEPLOYMENT_GPT_4O_ID,\n",
    "                    api_version=\"2023-05-15\"\n",
    "                )\n",
    "    \n",
    "    conversation=[]\n",
    "    reply = azure_open_ai_manager.generate_reply_from_context(user_input, content, conversation)\n",
    "    return reply"
   ]
  },
  {
   "cell_type": "code",
   "execution_count": null,
   "metadata": {},
   "outputs": [],
   "source": [
    "azure_blob_helper = AzureBlobHelper(AZ_ST_ACC_NAME,\n",
    "                                    AZ_ST_ACC_KEY,\n",
    "                                    AZ_ST_CONTAINER_NAME)"
   ]
  },
  {
   "cell_type": "code",
   "execution_count": null,
   "metadata": {},
   "outputs": [],
   "source": [
    "context = \"\\n\".join(results_to_return)\n",
    "reply = get_reply(query, context)\n",
    "\n",
    "URLs = []\n",
    "\n",
    "reranker_confidence = \"\"\n",
    "\n",
    "for page in metadata_source_page_to_return:\n",
    "    URLs.append(azure_blob_helper.generate_sas_url(page))\n"
   ]
  },
  {
   "cell_type": "code",
   "execution_count": null,
   "metadata": {},
   "outputs": [],
   "source": [
    "reply"
   ]
  },
  {
   "cell_type": "code",
   "execution_count": null,
   "metadata": {},
   "outputs": [],
   "source": [
    "from pprint import pprint\n",
    "pprint(reply[0][0])"
   ]
  },
  {
   "cell_type": "code",
   "execution_count": null,
   "metadata": {},
   "outputs": [],
   "source": [
    "user_input  = \"What is Naked Truth ?\""
   ]
  },
  {
   "cell_type": "code",
   "execution_count": null,
   "metadata": {},
   "outputs": [],
   "source": [
    "results_to_return, \\\n",
    "metadata_source_filename_to_return, \\\n",
    "metadata_source_page_to_return, \\\n",
    "reranker_score_to_return = search.get_search_results(user_input=user_input,\n",
    "                                                     CATEGORY=CATEGORY,\n",
    "                                                     user_id=USER_ID,\n",
    "                                                     )"
   ]
  },
  {
   "cell_type": "code",
   "execution_count": null,
   "metadata": {},
   "outputs": [],
   "source": []
  }
 ],
 "metadata": {
  "kernelspec": {
   "display_name": ".venv",
   "language": "python",
   "name": "python3"
  },
  "language_info": {
   "codemirror_mode": {
    "name": "ipython",
    "version": 3
   },
   "file_extension": ".py",
   "mimetype": "text/x-python",
   "name": "python",
   "nbconvert_exporter": "python",
   "pygments_lexer": "ipython3",
   "version": "3.11.6"
  }
 },
 "nbformat": 4,
 "nbformat_minor": 2
}
