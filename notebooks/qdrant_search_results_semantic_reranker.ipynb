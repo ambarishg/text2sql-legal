{
 "cells": [
  {
   "cell_type": "code",
   "execution_count": 1,
   "metadata": {},
   "outputs": [
    {
     "name": "stderr",
     "output_type": "stream",
     "text": [
      "c:\\Ambarish\\LEGAL\\text2sql-legal\\.venv\\Lib\\site-packages\\sentence_transformers\\cross_encoder\\CrossEncoder.py:11: TqdmWarning: IProgress not found. Please update jupyter and ipywidgets. See https://ipywidgets.readthedocs.io/en/stable/user_install.html\n",
      "  from tqdm.autonotebook import tqdm, trange\n"
     ]
    }
   ],
   "source": [
    "import sys\n",
    "sys.path.append('..')\n",
    "from config_notebooks import *\n",
    "from qdrant.qdrant_helper import *\n",
    "from sentence_transformers import CrossEncoder"
   ]
  },
  {
   "cell_type": "code",
   "execution_count": 2,
   "metadata": {},
   "outputs": [],
   "source": [
    "search = QdrantHelper(QDRANT_URL,\n",
    "                      QDRANT_KEY,\n",
    "                      MODEL_NAME,\n",
    "                      QDRANT_COLLECTION,\n",
    "                      RESULTS_LIMIT = 25,\n",
    "                      CROSS_ENCODER_USE=True,)"
   ]
  },
  {
   "cell_type": "code",
   "execution_count": 3,
   "metadata": {},
   "outputs": [],
   "source": [
    "query = \"\"\"\n",
    "What is Naked Truth ?\n",
    "\"\"\""
   ]
  },
  {
   "cell_type": "code",
   "execution_count": 4,
   "metadata": {},
   "outputs": [
    {
     "name": "stdout",
     "output_type": "stream",
     "text": [
      "\n",
      "What is Naked Truth ?\n",
      "\n",
      "################################\n",
      "category = \n",
      "user_id = None\n",
      "Results to return Length: 25\n"
     ]
    }
   ],
   "source": [
    "results_to_return, \\\n",
    "metadata_source_filename_to_return, \\\n",
    "metadata_source_page_to_return, \\\n",
    "reranker_score_to_return = search.get_search_results(user_input=query,CATEGORY=\"\")"
   ]
  },
  {
   "cell_type": "code",
   "execution_count": 7,
   "metadata": {},
   "outputs": [
    {
     "data": {
      "text/plain": [
       "['legalguide.pdf',\n",
       " 'legalguide.pdf',\n",
       " 'legalguide.pdf',\n",
       " 'special_marriage_act.pdf',\n",
       " 'legalguide.pdf',\n",
       " 'legalguide.pdf',\n",
       " 'legalguide.pdf',\n",
       " 'legalguide.pdf',\n",
       " 'legalguide.pdf',\n",
       " 'legalguide.pdf',\n",
       " 'legalguide.pdf',\n",
       " 'special_marriage_act.pdf',\n",
       " 'legalguide.pdf',\n",
       " 'legalguide.pdf',\n",
       " 'legalguide.pdf',\n",
       " 'legalguide.pdf',\n",
       " 'special_marriage_act.pdf',\n",
       " 'legalguide.pdf',\n",
       " 'legalguide.pdf',\n",
       " 'legalguide.pdf',\n",
       " 'legalguide.pdf',\n",
       " 'legalguide.pdf',\n",
       " 'legalguide.pdf',\n",
       " 'legalguide.pdf',\n",
       " 'special_marriage_act.pdf']"
      ]
     },
     "execution_count": 7,
     "metadata": {},
     "output_type": "execute_result"
    }
   ],
   "source": [
    "metadata_source_filename_to_return"
   ]
  },
  {
   "cell_type": "code",
   "execution_count": 8,
   "metadata": {},
   "outputs": [],
   "source": [
    "#We use a cross-encoder, to re-rank the results list to improve the quality\n",
    "cross_encoder = CrossEncoder('cross-encoder/ms-marco-MiniLM-L-6-v2')\n",
    "\n",
    "cross_score_list =[]\n",
    "\n",
    "for hit in results_to_return:\n",
    "    cross_score = cross_encoder.predict([query,hit])\n",
    "    cross_score_list.append(cross_score)\n",
    "\n",
    "# Combine all lists into a single list of tuples\n",
    "combined_lists = list(zip(results_to_return, \\\n",
    "metadata_source_filename_to_return, \\\n",
    "metadata_source_page_to_return, \\\n",
    "cross_score_list))\n",
    "\n",
    "# Sort combined lists based on the float values in the last position (index 3)\n",
    "sorted_combined = sorted(combined_lists, key=lambda x: x[3], reverse=True)\n",
    "\n",
    "# Unpack the sorted combined list back into separate lists\n",
    "results_to_return_sorted, \\\n",
    "metadata_source_filename_to_return_sorted, \\\n",
    "metadata_source_page_to_return_sorted, \\\n",
    "cross_score_list_sorted= zip(*sorted_combined)\n",
    "\n",
    "# Convert tuples back to lists\n",
    "results_to_return_sorted = list(results_to_return_sorted)\n",
    "metadata_source_filename_to_return_sorted = list(metadata_source_filename_to_return_sorted)\n",
    "metadata_source_page_to_return_sorted = list(metadata_source_page_to_return_sorted)\n",
    "cross_score_list_sorted = list(cross_score_list_sorted)"
   ]
  },
  {
   "cell_type": "code",
   "execution_count": 11,
   "metadata": {},
   "outputs": [
    {
     "name": "stdout",
     "output_type": "stream",
     "text": [
      "Results after re-ranking\n",
      "Cross-encoder score:  [-4.5817213, -7.764212, -8.724777, -9.041127, -9.938349, -9.988352, -10.066312, -10.133227, -10.188252, -10.231129, -10.446102, -10.462021, -10.483532, -10.52917, -10.594371, -10.636823, -10.638062, -10.644715, -10.760315, -10.827051, -11.012038, -11.058759, -11.060701, -11.080072, -11.186394]\n"
     ]
    }
   ],
   "source": [
    "print(\"Results after re-ranking\")\n",
    "print(\"Cross-encoder score: \", cross_score_list_sorted)"
   ]
  },
  {
   "cell_type": "code",
   "execution_count": null,
   "metadata": {},
   "outputs": [],
   "source": []
  }
 ],
 "metadata": {
  "kernelspec": {
   "display_name": ".venv",
   "language": "python",
   "name": "python3"
  },
  "language_info": {
   "codemirror_mode": {
    "name": "ipython",
    "version": 3
   },
   "file_extension": ".py",
   "mimetype": "text/x-python",
   "name": "python",
   "nbconvert_exporter": "python",
   "pygments_lexer": "ipython3",
   "version": "3.11.6"
  }
 },
 "nbformat": 4,
 "nbformat_minor": 2
}
