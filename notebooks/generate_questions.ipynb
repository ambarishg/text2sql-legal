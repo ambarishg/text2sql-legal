{
 "cells": [
  {
   "cell_type": "code",
   "execution_count": 1,
   "metadata": {},
   "outputs": [],
   "source": [
    "import sys\n",
    "sys.path.append('..')\n",
    "\n",
    "#ignore warnings\n",
    "import warnings\n",
    "warnings.filterwarnings(\"ignore\")"
   ]
  },
  {
   "cell_type": "code",
   "execution_count": 2,
   "metadata": {},
   "outputs": [],
   "source": [
    "from config_notebooks import *\n",
    "from pprint import pprint\n",
    "from azureopenaimanager.azureopenai_helper import *"
   ]
  },
  {
   "cell_type": "code",
   "execution_count": 3,
   "metadata": {},
   "outputs": [],
   "source": [
    "azure_open_ai_manager = AzureOpenAIManager(\n",
    "                    endpoint=AZURE_OPENAI_ENDPOINT,\n",
    "                    api_key=AZURE_OPENAI_KEY,\n",
    "                    deployment_id=AZURE_OPENAI_DEPLOYMENT_ID,\n",
    "                    api_version=\"2023-05-15\"\n",
    "                )"
   ]
  },
  {
   "cell_type": "code",
   "execution_count": 16,
   "metadata": {},
   "outputs": [],
   "source": [
    "number_of_questions = 2"
   ]
  },
  {
   "cell_type": "code",
   "execution_count": 24,
   "metadata": {},
   "outputs": [],
   "source": [
    "conversation_content = f\"Please generate \\\n",
    "{number_of_questions} questions \\\n",
    "based on the provided context. \\\n",
    "Each question must have four options (1,2,3,4) \\\n",
    "and include the correct answer.\""
   ]
  },
  {
   "cell_type": "code",
   "execution_count": 25,
   "metadata": {},
   "outputs": [
    {
     "data": {
      "text/plain": [
       "'Please generate 2 questions based on the provided context. Each question must have four options (1,2,3,4) and include the correct answer.'"
      ]
     },
     "execution_count": 25,
     "metadata": {},
     "output_type": "execute_result"
    }
   ],
   "source": [
    "conversation_content"
   ]
  },
  {
   "cell_type": "code",
   "execution_count": 4,
   "metadata": {},
   "outputs": [],
   "source": [
    "def get_reply(user_input, content):\n",
    "    conversation=[{ \"role\": \"system\",\n",
    "  \"content\": conversation_content\n",
    "              }]\n",
    "    reply = azure_open_ai_manager.generate_reply_from_context(user_input, content, conversation)\n",
    "    return reply"
   ]
  },
  {
   "cell_type": "code",
   "execution_count": 5,
   "metadata": {},
   "outputs": [],
   "source": [
    "query = \"\"\" \n",
    "\"Based on the provided context , please generate 2 multiple choice questions. \\\n",
    "    Please provide the output in json format\"\n",
    "\n",
    "\"\"\""
   ]
  },
  {
   "cell_type": "code",
   "execution_count": 6,
   "metadata": {},
   "outputs": [],
   "source": [
    "context = \"\"\" \n",
    "Bacteria are the sole members of the Kingdom Monera. They are the most\n",
    "abundant micro-organisms. Bacteria occur almost everywhere. Hundreds\n",
    "of bacteria are present in a handful of soil. They also live in extreme habitats\n",
    "such as hot springs, deserts, snow and deep oceans where very few other\n",
    "life forms can survive. Many of them live in or on other organisms as\n",
    "parasites.\n",
    "Bacteria are grouped under four categories based on their shape: the\n",
    "spherical Coccus (pl.: cocci), the rod-shaped Bacillus (pl.: bacilli), the\n",
    "comma-shaped Vibrium (pl.: vibrio) and the spiral Spirillum (pl.: spirilla)\n",
    "(Figure 2.1).\n",
    "\n",
    "Though the bacterial structure is very simple, they are very complex\n",
    "in behaviour. Compared to many other organisms, bacteria as a group\n",
    "show the most extensive metabolic diversity. Some of the bacteria are\n",
    "autotrophic, i.e., they synthesise their own food from inorganic substrates.\n",
    "They may be photosynthetic autotrophic or chemosynthetic autotrophic.\n",
    "The vast majority of bacteria are heterotrophs, i.e., they depend on other\n",
    "organisms or on dead organic matter for food.\n",
    "\n",
    "\"\"\""
   ]
  },
  {
   "cell_type": "code",
   "execution_count": 7,
   "metadata": {},
   "outputs": [
    {
     "data": {
      "text/plain": [
       "'{\\n  \"questions\": [\\n    {\\n      \"question\": \"What are the four categories of bacteria based on their shape?\",\\n      \"options\": {\\n        \"1\": \"Coccus, Bacillus, Vibrium, Spirillum\",\\n        \"2\": \"Round, Square, Triangle, Hexagon\",\\n        \"3\": \"Fungi, Algae, Protozoa, Virus\",\\n        \"4\": \"Mammals, Reptiles, Birds, Amphibians\"\\n      },\\n      \"answer\": \"1\"\\n    },\\n    {\\n      \"question\": \"What is the metabolic diversity of bacteria?\",\\n      \"options\": {\\n        \"1\": \"Limited to only autotrophic\",\\n        \"2\": \"Limited to only heterotrophic\",\\n        \"3\": \"Extensive, including autotrophic and heterotrophic\",\\n        \"4\": \"Non-existent\"\\n      },\\n      \"answer\": \"3\"\\n    }\\n  ]\\n}'"
      ]
     },
     "execution_count": 7,
     "metadata": {},
     "output_type": "execute_result"
    }
   ],
   "source": [
    "reply = get_reply(query, context)\n",
    "reply[0][0]"
   ]
  },
  {
   "cell_type": "code",
   "execution_count": 8,
   "metadata": {},
   "outputs": [],
   "source": [
    "output = reply[0][0].replace(\"```json\",\"\").replace(\"\\n\",\"\").replace(\"```\",\"\")"
   ]
  },
  {
   "cell_type": "code",
   "execution_count": 9,
   "metadata": {},
   "outputs": [
    {
     "data": {
      "text/plain": [
       "'{  \"questions\": [    {      \"question\": \"What are the four categories of bacteria based on their shape?\",      \"options\": {        \"1\": \"Coccus, Bacillus, Vibrium, Spirillum\",        \"2\": \"Round, Square, Triangle, Hexagon\",        \"3\": \"Fungi, Algae, Protozoa, Virus\",        \"4\": \"Mammals, Reptiles, Birds, Amphibians\"      },      \"answer\": \"1\"    },    {      \"question\": \"What is the metabolic diversity of bacteria?\",      \"options\": {        \"1\": \"Limited to only autotrophic\",        \"2\": \"Limited to only heterotrophic\",        \"3\": \"Extensive, including autotrophic and heterotrophic\",        \"4\": \"Non-existent\"      },      \"answer\": \"3\"    }  ]}'"
      ]
     },
     "execution_count": 9,
     "metadata": {},
     "output_type": "execute_result"
    }
   ],
   "source": [
    "output"
   ]
  },
  {
   "cell_type": "code",
   "execution_count": 10,
   "metadata": {},
   "outputs": [],
   "source": [
    "import json"
   ]
  },
  {
   "cell_type": "code",
   "execution_count": 11,
   "metadata": {},
   "outputs": [],
   "source": [
    "result = json.loads(output)"
   ]
  },
  {
   "cell_type": "code",
   "execution_count": 26,
   "metadata": {},
   "outputs": [
    {
     "data": {
      "text/plain": [
       "1"
      ]
     },
     "execution_count": 26,
     "metadata": {},
     "output_type": "execute_result"
    }
   ],
   "source": [
    "len(result)"
   ]
  },
  {
   "cell_type": "code",
   "execution_count": 12,
   "metadata": {},
   "outputs": [
    {
     "data": {
      "text/plain": [
       "{'questions': [{'question': 'What are the four categories of bacteria based on their shape?',\n",
       "   'options': {'1': 'Coccus, Bacillus, Vibrium, Spirillum',\n",
       "    '2': 'Round, Square, Triangle, Hexagon',\n",
       "    '3': 'Fungi, Algae, Protozoa, Virus',\n",
       "    '4': 'Mammals, Reptiles, Birds, Amphibians'},\n",
       "   'answer': '1'},\n",
       "  {'question': 'What is the metabolic diversity of bacteria?',\n",
       "   'options': {'1': 'Limited to only autotrophic',\n",
       "    '2': 'Limited to only heterotrophic',\n",
       "    '3': 'Extensive, including autotrophic and heterotrophic',\n",
       "    '4': 'Non-existent'},\n",
       "   'answer': '3'}]}"
      ]
     },
     "execution_count": 12,
     "metadata": {},
     "output_type": "execute_result"
    }
   ],
   "source": [
    "result"
   ]
  },
  {
   "cell_type": "code",
   "execution_count": 27,
   "metadata": {},
   "outputs": [
    {
     "data": {
      "text/plain": [
       "2"
      ]
     },
     "execution_count": 27,
     "metadata": {},
     "output_type": "execute_result"
    }
   ],
   "source": [
    "len(result[\"questions\"])"
   ]
  },
  {
   "cell_type": "code",
   "execution_count": 36,
   "metadata": {},
   "outputs": [],
   "source": [
    "result_set_0 = result[\"questions\"][0]"
   ]
  },
  {
   "cell_type": "code",
   "execution_count": 34,
   "metadata": {},
   "outputs": [],
   "source": [
    "question = result[\"questions\"][0][\"question\"]"
   ]
  },
  {
   "cell_type": "code",
   "execution_count": null,
   "metadata": {},
   "outputs": [],
   "source": [
    "result_set_0[\"options\"]"
   ]
  },
  {
   "cell_type": "code",
   "execution_count": 45,
   "metadata": {},
   "outputs": [],
   "source": [
    "options_list = []"
   ]
  },
  {
   "cell_type": "code",
   "execution_count": null,
   "metadata": {},
   "outputs": [],
   "source": [
    "for item in result_set_0[\"options\"].values():\n",
    "    print(item)\n",
    "    options_list.append(item)"
   ]
  },
  {
   "cell_type": "code",
   "execution_count": null,
   "metadata": {},
   "outputs": [],
   "source": [
    "options_list"
   ]
  },
  {
   "cell_type": "code",
   "execution_count": 51,
   "metadata": {},
   "outputs": [],
   "source": [
    "answer = int(result_set_0[\"answer\"])"
   ]
  },
  {
   "cell_type": "code",
   "execution_count": null,
   "metadata": {},
   "outputs": [],
   "source": [
    "answer"
   ]
  },
  {
   "cell_type": "code",
   "execution_count": null,
   "metadata": {},
   "outputs": [],
   "source": [
    "answer_return = \"option \" + str(answer-1)\n",
    "print(answer_return)"
   ]
  },
  {
   "cell_type": "code",
   "execution_count": null,
   "metadata": {},
   "outputs": [],
   "source": [
    "    # question_type:str\n",
    "    # chapter_id:str\n",
    "    # question_name: str\n",
    "    # question_options: List[str]\n",
    "    # answer: str"
   ]
  },
  {
   "cell_type": "code",
   "execution_count": 54,
   "metadata": {},
   "outputs": [],
   "source": [
    "import requests"
   ]
  },
  {
   "cell_type": "code",
   "execution_count": 55,
   "metadata": {},
   "outputs": [],
   "source": [
    "data = {}"
   ]
  },
  {
   "cell_type": "code",
   "execution_count": 56,
   "metadata": {},
   "outputs": [],
   "source": [
    "data[\"question_name\"] = question\n",
    "data[\"question_options\"] = options_list\n",
    "data[\"answer\"] = answer_return\n",
    "data[\"question_type\"] = \"04eeb2d4-8cab-4db2-aee8-daa88297ae6f\"\n",
    "data[\"chapter_id\"] = \"75e83a91-7261-464b-b7a3-761c0d39639a\""
   ]
  },
  {
   "cell_type": "code",
   "execution_count": null,
   "metadata": {},
   "outputs": [],
   "source": [
    "data"
   ]
  },
  {
   "cell_type": "code",
   "execution_count": 64,
   "metadata": {},
   "outputs": [],
   "source": [
    "json_data = json.dumps(data)"
   ]
  },
  {
   "cell_type": "code",
   "execution_count": null,
   "metadata": {},
   "outputs": [],
   "source": [
    "json_data"
   ]
  },
  {
   "cell_type": "code",
   "execution_count": 61,
   "metadata": {},
   "outputs": [],
   "source": [
    "URL = \"http://127.0.0.1:8000/add-question/\""
   ]
  },
  {
   "cell_type": "code",
   "execution_count": null,
   "metadata": {},
   "outputs": [],
   "source": [
    "requests.post(URL,json_data)"
   ]
  },
  {
   "cell_type": "code",
   "execution_count": null,
   "metadata": {},
   "outputs": [],
   "source": []
  }
 ],
 "metadata": {
  "kernelspec": {
   "display_name": ".venv",
   "language": "python",
   "name": "python3"
  },
  "language_info": {
   "codemirror_mode": {
    "name": "ipython",
    "version": 3
   },
   "file_extension": ".py",
   "mimetype": "text/x-python",
   "name": "python",
   "nbconvert_exporter": "python",
   "pygments_lexer": "ipython3",
   "version": "3.11.6"
  }
 },
 "nbformat": 4,
 "nbformat_minor": 2
}
