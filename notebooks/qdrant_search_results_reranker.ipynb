{
 "cells": [
  {
   "cell_type": "code",
   "execution_count": 1,
   "metadata": {},
   "outputs": [
    {
     "name": "stderr",
     "output_type": "stream",
     "text": [
      "c:\\Ambarish\\text2sql\\.venv\\Lib\\site-packages\\sentence_transformers\\cross_encoder\\CrossEncoder.py:11: TqdmWarning: IProgress not found. Please update jupyter and ipywidgets. See https://ipywidgets.readthedocs.io/en/stable/user_install.html\n",
      "  from tqdm.autonotebook import tqdm, trange\n"
     ]
    }
   ],
   "source": [
    "import sys\n",
    "sys.path.append('..')\n",
    "from config_notebooks import *\n",
    "from qdrant.qdrant_helper import *\n",
    "from azureopenaimanager.azureopenai_helper import AzureOpenAIManager\n",
    "from azure_blob.azure_blob_helper import AzureBlobHelper\n",
    "from sentence_transformers import CrossEncoder"
   ]
  },
  {
   "cell_type": "code",
   "execution_count": 2,
   "metadata": {},
   "outputs": [],
   "source": [
    "search = QdrantHelper(QDRANT_URL,QDRANT_KEY,MODEL_NAME,QDRANT_COLLECTION,\n",
    "                      qmodels.Distance.COSINE, 384,25)"
   ]
  },
  {
   "cell_type": "code",
   "execution_count": 3,
   "metadata": {},
   "outputs": [],
   "source": [
    "query = \"\"\"\n",
    "What is De minimis non curat lex ? \n",
    "\"\"\""
   ]
  },
  {
   "cell_type": "code",
   "execution_count": 4,
   "metadata": {},
   "outputs": [],
   "source": [
    "CATEGORY = \"\"\n",
    "USER_ID = \"ambarish.ganguly@gmail.com\""
   ]
  },
  {
   "cell_type": "code",
   "execution_count": 5,
   "metadata": {},
   "outputs": [
    {
     "name": "stdout",
     "output_type": "stream",
     "text": [
      "\n",
      "What is De minimis non curat lex ? \n",
      "\n",
      "################################\n",
      "[-2.08998844e-02  4.91481349e-02 -2.74850558e-02  5.30819548e-03\n",
      " -1.93886217e-02  2.41186302e-02  2.97604147e-02  1.27572700e-01\n",
      " -1.01857008e-02  5.34148421e-03  1.01855814e-01 -3.54509093e-02\n",
      " -5.75582683e-02 -4.28360328e-02 -6.24046437e-02 -4.02064137e-02\n",
      "  7.76625797e-02  2.77915671e-02  1.38834855e-02  2.18491908e-02\n",
      " -1.31272990e-02 -1.46306595e-02 -3.25174630e-02  9.00009181e-03\n",
      " -3.25461030e-02  8.96731317e-02 -5.42254113e-02  3.75776067e-02\n",
      "  1.11698695e-01 -7.37310201e-02  1.03579648e-02  2.91921366e-02\n",
      "  5.76902553e-02  3.11545562e-02  4.81735952e-02 -4.64341007e-02\n",
      " -1.54733723e-02  2.27608141e-02  3.15641649e-02 -4.47567217e-02\n",
      " -3.76142450e-02 -8.28191359e-03 -9.66505185e-02  2.36762259e-02\n",
      " -4.38305177e-02 -5.30715473e-02 -3.53014395e-02  1.56562980e-02\n",
      " -5.12038767e-02 -5.38477153e-02  4.97146249e-02  5.39638009e-03\n",
      "  1.63749848e-02  3.00530344e-02  1.70922966e-03 -4.52267826e-02\n",
      " -6.11952208e-02 -3.74432057e-02  2.85679903e-02 -2.28434801e-02\n",
      "  3.05186771e-02 -1.67415608e-02 -8.49563181e-02  5.95869496e-02\n",
      "  3.33413072e-02 -3.82311121e-02  4.17801812e-02 -8.31753314e-02\n",
      " -9.12331510e-03  4.43791226e-02  5.41059971e-02 -3.05700060e-02\n",
      "  5.51113337e-02  1.17974523e-02  1.24262823e-02 -3.89388539e-02\n",
      "  1.41440272e-01 -4.32126895e-02 -6.38753269e-03  1.67211965e-02\n",
      " -9.66361258e-03  7.21849427e-02 -1.32429264e-02  8.65142420e-02\n",
      "  2.50986479e-02 -2.39726994e-02  3.04300357e-02 -4.87885624e-02\n",
      "  5.28889075e-02 -2.75348388e-02 -5.52281961e-02  6.92852885e-02\n",
      " -7.20507130e-02 -2.92746872e-02 -6.89682290e-02  3.95911112e-02\n",
      "  6.50449917e-02  1.35932630e-02 -3.39529999e-02  5.85132875e-02\n",
      "  4.00846526e-02  8.17458704e-02 -4.67719883e-03  5.00253774e-02\n",
      " -8.12661201e-02 -5.94998337e-02  1.75039750e-02 -5.98719530e-02\n",
      " -1.80113018e-02  5.61701832e-03 -2.51464993e-02 -4.02740836e-02\n",
      "  2.21638922e-02 -1.45046599e-02 -4.26987745e-02 -7.89029524e-02\n",
      "  1.76577214e-02 -4.40386608e-02  8.59929994e-02 -1.56629290e-02\n",
      " -1.25285864e-04 -7.96436891e-02 -5.63760996e-02 -2.72509817e-04\n",
      " -3.36648747e-02  7.05901533e-02  5.06724417e-02 -1.89349401e-33\n",
      " -5.39283752e-02  2.39206124e-02  5.89176919e-03 -6.09612092e-02\n",
      "  1.42633114e-02 -6.01660134e-03 -7.92003199e-02 -3.25422697e-02\n",
      " -1.23855351e-02 -3.30996774e-02 -4.28505093e-02 -2.70671770e-02\n",
      " -4.99654897e-02  4.29003276e-02  5.86819090e-02  3.22238402e-03\n",
      " -3.56277749e-02  3.00906189e-02  2.38936450e-02 -1.05473027e-01\n",
      " -3.67250443e-02  1.14464112e-01  8.81292950e-03 -2.82674432e-02\n",
      "  1.87947892e-03  4.19469178e-02  2.11074203e-02 -3.67387161e-02\n",
      " -6.42323960e-03  3.91752236e-02 -6.14424702e-03  1.48476437e-02\n",
      "  6.78454190e-02  8.02905038e-02  4.56319042e-02  9.72177014e-02\n",
      " -5.00126183e-02 -2.48542428e-02 -4.54333331e-03  6.73907027e-02\n",
      "  2.33113505e-02  7.91843515e-03  1.21194487e-02 -6.04621368e-03\n",
      "  1.92058906e-02 -4.36680168e-02  5.47302067e-02 -5.28288959e-03\n",
      " -3.99398990e-02  1.26561837e-03  2.82414109e-02  1.34420628e-02\n",
      " -4.50190753e-02 -3.42368558e-02  3.03754141e-03  7.40595385e-02\n",
      "  2.85307076e-02 -8.24228600e-02 -3.11805978e-02  2.28269361e-02\n",
      " -1.32315569e-02  8.75032879e-03 -7.78070325e-03 -4.86494340e-02\n",
      "  5.35736606e-02  5.25957951e-03 -7.25298524e-02 -5.79802021e-02\n",
      "  7.82263577e-02 -1.60275605e-02 -1.20532341e-01  3.14708985e-03\n",
      "  1.09335832e-01 -1.45516042e-02  1.27425149e-01  6.42805472e-02\n",
      "  1.01125292e-01  2.43724938e-02  4.70448174e-02 -6.55091554e-02\n",
      " -1.39910042e-01  2.43883710e-02 -2.73538064e-02  4.30853255e-02\n",
      " -5.15880948e-03 -7.56088570e-02 -6.19548894e-02  6.60484135e-02\n",
      " -1.01897139e-02  9.87276528e-03 -5.75046241e-02 -4.53980640e-02\n",
      " -5.43016568e-02 -7.14296242e-03 -4.08384949e-02 -1.20236760e-34\n",
      " -7.07503334e-02 -4.61232848e-02  8.45691748e-03  5.06399050e-02\n",
      " -2.96253487e-02  6.36480972e-02  3.96809913e-03  4.98511270e-02\n",
      "  7.64316618e-02  8.48823786e-03  3.09350807e-02 -3.91088352e-02\n",
      "  6.50265887e-02 -3.70972902e-02  5.11315726e-02  1.35033950e-01\n",
      "  1.47213852e-02  1.89274419e-02 -4.79720868e-02 -4.79143150e-02\n",
      "  4.72591333e-02  1.23288974e-01 -1.18447607e-02  7.10264817e-02\n",
      "  3.20525095e-02  7.48155732e-03  3.93403247e-02 -4.10838872e-02\n",
      " -4.62781079e-02 -3.04071903e-02  5.49153537e-02 -4.60516401e-02\n",
      " -1.60315149e-02  3.29963230e-02 -8.94374847e-02  6.25988469e-02\n",
      " -4.44834158e-02 -4.21267897e-02 -9.31129307e-02  3.79815660e-02\n",
      " -1.94103643e-02  9.06366549e-05  1.45997554e-01  5.61526045e-02\n",
      "  1.78876445e-02 -3.37036885e-03 -7.33199110e-03 -6.16011098e-02\n",
      " -3.08187609e-03  6.81572184e-02  7.16510639e-02  8.52061377e-04\n",
      " -6.91273138e-02  5.84687814e-02 -1.45814177e-02 -3.97541039e-02\n",
      " -8.52009468e-03 -5.04056998e-02 -4.82778028e-02  2.17372328e-02\n",
      "  6.30739033e-02  1.08948369e-02 -3.68120410e-02 -2.39531249e-02\n",
      "  9.14452970e-03 -8.48920792e-02 -8.90690461e-02  8.10007229e-02\n",
      "  1.85227711e-02 -6.30618408e-02  1.18408300e-01  3.77586856e-02\n",
      " -2.75395829e-02 -5.93636595e-02 -7.66233951e-02 -7.01652020e-02\n",
      " -1.07813049e-02 -1.15431687e-02  1.97134353e-02 -3.43988985e-02\n",
      " -6.12617135e-02 -1.58513468e-02  2.23907642e-02  3.71417776e-02\n",
      " -3.20857093e-02 -1.83208920e-02 -8.26529339e-02  7.13280449e-03\n",
      "  6.18762150e-02  7.05140531e-02 -2.41884459e-02  5.33586740e-02\n",
      "  1.58634111e-02  1.84652358e-02  6.44070841e-03 -1.66016054e-08\n",
      "  3.87644134e-02 -4.58082482e-02 -6.56692833e-02 -2.03087125e-02\n",
      " -4.53869207e-03 -4.03634235e-02 -2.04711920e-03 -3.86996679e-02\n",
      " -3.39436941e-02  5.88750914e-02  6.65996745e-02  5.06134778e-02\n",
      "  4.10354184e-03 -4.26149927e-02 -4.91051041e-02  9.75493044e-02\n",
      "  7.41860569e-02 -1.46398684e-02 -5.59809543e-02 -9.30592790e-02\n",
      " -4.86898907e-02  2.56413370e-02 -1.22129600e-02 -1.88217295e-04\n",
      " -2.89839711e-02 -3.44923623e-02  7.65907168e-02  5.25103044e-03\n",
      "  2.68116836e-02 -7.91135505e-02 -5.92150316e-02  1.16518408e-01\n",
      "  1.36956386e-02 -4.45776507e-02 -1.49226459e-02  7.23972544e-02\n",
      "  8.02843869e-02  3.50846089e-02 -7.13460371e-02  3.06748431e-02\n",
      "  4.54028361e-02  3.30948830e-03 -2.22100746e-02 -1.29049551e-03\n",
      " -1.95221826e-02  5.26233613e-02 -1.63887721e-02  1.01714954e-02\n",
      " -3.87124950e-04 -3.75598297e-02 -5.67879062e-03  3.15016694e-02\n",
      " -1.38001395e-02  2.87677068e-02 -8.51794109e-02 -6.96316287e-02\n",
      " -8.07845443e-02 -6.39101630e-03 -7.34467804e-02 -6.14919476e-02\n",
      "  6.79787546e-02  1.03177577e-01  1.19913146e-01  5.61355054e-02]\n",
      "################################\n",
      "category = \n",
      "user_id = ambarish.ganguly@gmail.com\n",
      "0.25309813\n",
      "0.19674085\n",
      "0.19359663\n",
      "0.17505871\n",
      "0.15023923\n",
      "0.1502257\n",
      "0.14880535\n",
      "0.14850987\n",
      "0.14201863\n",
      "0.13837963\n",
      "0.13376552\n",
      "0.13261864\n",
      "0.13112986\n",
      "0.12604897\n",
      "0.12491954\n",
      "0.11847513\n",
      "0.11757772\n",
      "0.11466124\n",
      "0.11437164\n",
      "0.11257745\n",
      "0.11129254\n",
      "0.11128403\n",
      "0.10851879\n",
      "0.10647534\n",
      "0.10636592\n"
     ]
    }
   ],
   "source": [
    "results_to_return, \\\n",
    "metadata_source_filename_to_return, \\\n",
    "metadata_source_page_to_return, \\\n",
    "reranker_score_to_return = search.get_search_results(user_input=query,\n",
    "                                                     CATEGORY=CATEGORY,\n",
    "                                                     user_id=USER_ID,\n",
    "                                                     )"
   ]
  },
  {
   "cell_type": "code",
   "execution_count": 6,
   "metadata": {},
   "outputs": [
    {
     "data": {
      "text/plain": [
       "['Unit-12.pdf',\n",
       " 'Unit-12.pdf',\n",
       " 'air qual 12.pdf',\n",
       " 'Unit-12.pdf',\n",
       " 'Unit-12.pdf',\n",
       " 'air qual 12.pdf',\n",
       " 'Unit-12.pdf',\n",
       " 'air qual 12.pdf',\n",
       " 'Unit-12.pdf',\n",
       " 'air qual 12.pdf',\n",
       " 'air qual 12.pdf',\n",
       " 'air qual 12.pdf',\n",
       " 'air qual 12.pdf',\n",
       " 'air qual 12.pdf',\n",
       " 'CHAP02-BIOLOGY-CLASS11.pdf',\n",
       " 'Unit-12.pdf',\n",
       " 'Unit-12.pdf',\n",
       " 'Unit-12.pdf',\n",
       " 'air qual 12.pdf',\n",
       " 'Unit-12.pdf',\n",
       " 'air qual 12.pdf',\n",
       " 'air qual 12.pdf',\n",
       " 'CHAP02-BIOLOGY-CLASS11.pdf',\n",
       " 'air qual 12.pdf',\n",
       " 'air qual 12.pdf']"
      ]
     },
     "execution_count": 6,
     "metadata": {},
     "output_type": "execute_result"
    }
   ],
   "source": [
    "metadata_source_filename_to_return"
   ]
  },
  {
   "cell_type": "code",
   "execution_count": 7,
   "metadata": {},
   "outputs": [
    {
     "data": {
      "text/plain": [
       "['Unit-12-8.pdf',\n",
       " 'Unit-12-10.pdf',\n",
       " 'air qual 12-3.pdf',\n",
       " 'Unit-12-5.pdf',\n",
       " 'Unit-12-8.pdf',\n",
       " 'air qual 12-3.pdf',\n",
       " 'Unit-12-7.pdf',\n",
       " 'air qual 12-3.pdf',\n",
       " 'Unit-12-5.pdf',\n",
       " 'air qual 12-8.pdf',\n",
       " 'air qual 12-4.pdf',\n",
       " 'air qual 12-8.pdf',\n",
       " 'air qual 12-7.pdf',\n",
       " 'air qual 12-6.pdf',\n",
       " 'CHAP02-BIOLOGY-CLASS11-5.pdf',\n",
       " 'Unit-12-7.pdf',\n",
       " 'Unit-12-4.pdf',\n",
       " 'Unit-12-4.pdf',\n",
       " 'air qual 12-1.pdf',\n",
       " 'Unit-12-0.pdf',\n",
       " 'air qual 12-1.pdf',\n",
       " 'air qual 12-5.pdf',\n",
       " 'CHAP02-BIOLOGY-CLASS11-4.pdf',\n",
       " 'air qual 12-8.pdf',\n",
       " 'air qual 12-9.pdf']"
      ]
     },
     "execution_count": 7,
     "metadata": {},
     "output_type": "execute_result"
    }
   ],
   "source": [
    "metadata_source_page_to_return"
   ]
  },
  {
   "cell_type": "code",
   "execution_count": 8,
   "metadata": {},
   "outputs": [
    {
     "data": {
      "text/plain": [
       "[]"
      ]
     },
     "execution_count": 8,
     "metadata": {},
     "output_type": "execute_result"
    }
   ],
   "source": [
    "reranker_score_to_return"
   ]
  },
  {
   "cell_type": "code",
   "execution_count": null,
   "metadata": {},
   "outputs": [],
   "source": [
    "results_to_return[0]"
   ]
  },
  {
   "cell_type": "code",
   "execution_count": null,
   "metadata": {},
   "outputs": [],
   "source": [
    "#We use a cross-encoder, to re-rank the results list to improve the quality\n",
    "cross_encoder = CrossEncoder('cross-encoder/ms-marco-MiniLM-L-6-v2')"
   ]
  },
  {
   "cell_type": "code",
   "execution_count": null,
   "metadata": {},
   "outputs": [],
   "source": [
    "for i in range(len(results_to_return)):\n",
    "               print(results_to_return[i])"
   ]
  },
  {
   "cell_type": "code",
   "execution_count": null,
   "metadata": {},
   "outputs": [],
   "source": [
    "# Now, score all retrieved passages with the cross_encoder\n",
    "cross_inp = [[query, results_to_return[i]] for i in range(len(results_to_return))]\n",
    "cross_scores = cross_encoder.predict(cross_inp)"
   ]
  },
  {
   "cell_type": "code",
   "execution_count": null,
   "metadata": {},
   "outputs": [],
   "source": [
    "cross_scores"
   ]
  },
  {
   "cell_type": "code",
   "execution_count": null,
   "metadata": {},
   "outputs": [],
   "source": [
    "def get_reply(user_input, content):\n",
    "\n",
    "    azure_open_ai_manager = AzureOpenAIManager(\n",
    "                    endpoint=AZURE_OPENAI_ENDPOINT,\n",
    "                    api_key=AZURE_OPENAI_KEY,\n",
    "                    deployment_id=AZURE_OPENAI_DEPLOYMENT_ID,\n",
    "                    api_version=\"2023-05-15\"\n",
    "                )\n",
    "    \n",
    "    conversation=[{\"role\": \"system\", \"content\": \"If the answer is not found within the context, please mention \\\n",
    "        that the answer is not found \\\n",
    "        Do not answer anything which is not in the context\"}]\n",
    "    reply = azure_open_ai_manager.generate_reply_from_context(user_input, content, conversation)\n",
    "    return reply"
   ]
  },
  {
   "cell_type": "code",
   "execution_count": null,
   "metadata": {},
   "outputs": [],
   "source": [
    "azure_blob_helper = AzureBlobHelper(AZ_ST_ACC_NAME,\n",
    "                                    AZ_ST_ACC_KEY,\n",
    "                                    AZ_ST_CONTAINER_NAME)"
   ]
  },
  {
   "cell_type": "code",
   "execution_count": null,
   "metadata": {},
   "outputs": [],
   "source": [
    "context = \"\\n\".join(results_to_return)\n",
    "reply = get_reply(query, context)\n",
    "\n",
    "URLs = []\n",
    "\n",
    "reranker_confidence = \"\"\n",
    "\n",
    "for page in metadata_source_page_to_return:\n",
    "    URLs.append(azure_blob_helper.generate_sas_url(page))\n"
   ]
  },
  {
   "cell_type": "code",
   "execution_count": null,
   "metadata": {},
   "outputs": [],
   "source": [
    "reply"
   ]
  },
  {
   "cell_type": "code",
   "execution_count": null,
   "metadata": {},
   "outputs": [],
   "source": []
  }
 ],
 "metadata": {
  "kernelspec": {
   "display_name": ".venv",
   "language": "python",
   "name": "python3"
  },
  "language_info": {
   "codemirror_mode": {
    "name": "ipython",
    "version": 3
   },
   "file_extension": ".py",
   "mimetype": "text/x-python",
   "name": "python",
   "nbconvert_exporter": "python",
   "pygments_lexer": "ipython3",
   "version": "3.11.6"
  }
 },
 "nbformat": 4,
 "nbformat_minor": 2
}
